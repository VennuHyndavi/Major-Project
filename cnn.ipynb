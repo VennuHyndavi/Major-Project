{
 "cells": [
  {
   "cell_type": "code",
   "execution_count": 1,
   "metadata": {},
   "outputs": [
    {
     "name": "stderr",
     "output_type": "stream",
     "text": [
      "Using TensorFlow backend.\n"
     ]
    },
    {
     "name": "stdout",
     "output_type": "stream",
     "text": [
      "importing Jupyter notebook from utils.ipynb\n"
     ]
    }
   ],
   "source": [
    "import import_ipynb\n",
    "import numpy as np\n",
    "import sys\n",
    "from keras.models import Sequential, load_model\n",
    "from keras.layers import Dense, Dropout, Activation\n",
    "from keras.layers import Embedding, Flatten\n",
    "from keras.layers import Conv1D, GlobalMaxPooling1D\n",
    "from keras.callbacks import ModelCheckpoint, ReduceLROnPlateau\n",
    "import utils\n",
    "from keras.preprocessing.sequence import pad_sequences\n",
    "import os\n",
    "import h5py\n",
    "\n",
    "# Performs classification using CNN.\n",
    "\n",
    "FREQ_DIST_FILE = r'C:\\Users\\Vyshnavi\\Desktop\\main\\dataset\\train-processed-freqdist.pkl'\n",
    "BI_FREQ_DIST_FILE = r'C:\\Users\\Vyshnavi\\Desktop\\main\\dataset\\train-processed-freqdist-bi.pkl'\n",
    "TRAIN_PROCESSED_FILE = r'C:\\Users\\Vyshnavi\\Desktop\\main\\dataset\\train-processed.csv'\n",
    "TEST_PROCESSED_FILE = r'C:\\Users\\Vyshnavi\\Desktop\\main\\dataset\\test-processed.csv'\n",
    "GLOVE_FILE = r'C:\\Users\\Vyshnavi\\Desktop\\main\\dataset\\glove-seeds.txt'\n",
    "dim = 200"
   ]
  },
  {
   "cell_type": "code",
   "execution_count": null,
   "metadata": {},
   "outputs": [],
   "source": [
    "def get_glove_vectors(vocab):\n",
    "    \"\"\"\n",
    "    Extracts glove vectors from seed file only for words present in vocab.\n",
    "    \"\"\"\n",
    "    print ('Looking for GLOVE seeds')\n",
    "    glove_vectors = {}\n",
    "    found = 0\n",
    "    with open(GLOVE_FILE, 'r',encoding='utf-8') as glove_file:\n",
    "        for i, line in enumerate(glove_file):\n",
    "            utils.write_status(i + 1, 0)\n",
    "            tokens = line.strip().split()\n",
    "            word = tokens[0]\n",
    "            if vocab.get(word):\n",
    "                vector = [float(e) for e in tokens[1:]]\n",
    "                glove_vectors[word] = np.array(vector)\n",
    "                found += 1\n",
    "    print ('\\n')\n",
    "    return glove_vectors\n",
    "\n",
    "\n",
    "def get_feature_vector(tweet):\n",
    "    \"\"\"\n",
    "    Generates a feature vector for each tweet where each word is\n",
    "    represented by integer index based on rank in vocabulary.\n",
    "    \"\"\"\n",
    "    words = tweet.split()\n",
    "    feature_vector = []\n",
    "    for i in range(len(words) - 1):\n",
    "        word = words[i]\n",
    "        if vocab.get(word) is not None:\n",
    "            feature_vector.append(vocab.get(word))\n",
    "    if len(words) >= 1:\n",
    "        if vocab.get(words[-1]) is not None:\n",
    "            feature_vector.append(vocab.get(words[-1]))\n",
    "    return feature_vector\n",
    "\n",
    "\n",
    "def process_tweets(csv_file, test_file=True):\n",
    "    \"\"\"\n",
    "    Generates training X, y pairs.\n",
    "    \"\"\"\n",
    "    tweets = []\n",
    "    labels = []\n",
    "    print ('Generating feature vectors')\n",
    "    with open(csv_file, 'r',encoding=\"utf-8\") as csv:\n",
    "        lines = csv.readlines()\n",
    "        total = len(lines)\n",
    "        for i, line in enumerate(lines):\n",
    "            if test_file:\n",
    "                tweet_id, tweet = line.split(',')\n",
    "            else:\n",
    "                tweet_id, sentiment, tweet = line.split(',')\n",
    "            feature_vector = get_feature_vector(tweet)\n",
    "            if test_file:\n",
    "                tweets.append(feature_vector)\n",
    "            else:\n",
    "                tweets.append(feature_vector)\n",
    "                labels.append(int(sentiment))\n",
    "            utils.write_status(i + 1, total)\n",
    "    print ('\\n')\n",
    "    return tweets, np.array(labels)\n"
   ]
  },
  {
   "cell_type": "code",
   "execution_count": 6,
   "metadata": {},
   "outputs": [
    {
     "name": "stdout",
     "output_type": "stream",
     "text": [
      "Looking for GLOVE seeds\n",
      "Processing 93827/100000essing 423113/0Processing 657037/0Processing 825222/0Processing 1167229/0Processing 1187992/0Processing 40940/100000"
     ]
    },
    {
     "name": "stderr",
     "output_type": "stream",
     "text": [
      "C:\\Users\\Vyshnavi\\Anaconda3\\lib\\site-packages\\tensorflow_core\\python\\framework\\indexed_slices.py:433: UserWarning: Converting sparse IndexedSlices to a dense Tensor of unknown shape. This may consume a large amount of memory.\n",
      "  \"Converting sparse IndexedSlices to a dense Tensor of unknown shape. \"\n"
     ]
    },
    {
     "name": "stdout",
     "output_type": "stream",
     "text": [
      "Model: \"sequential_1\"\n",
      "_________________________________________________________________\n",
      "Layer (type)                 Output Shape              Param #   \n",
      "=================================================================\n",
      "embedding_1 (Embedding)      (None, 40, 200)           18000200  \n",
      "_________________________________________________________________\n",
      "dropout_1 (Dropout)          (None, 40, 200)           0         \n",
      "_________________________________________________________________\n",
      "conv1d_1 (Conv1D)            (None, 38, 600)           360600    \n",
      "_________________________________________________________________\n",
      "conv1d_2 (Conv1D)            (None, 36, 300)           540300    \n",
      "_________________________________________________________________\n",
      "conv1d_3 (Conv1D)            (None, 34, 150)           135150    \n",
      "_________________________________________________________________\n",
      "conv1d_4 (Conv1D)            (None, 32, 75)            33825     \n",
      "_________________________________________________________________\n",
      "flatten_1 (Flatten)          (None, 2400)              0         \n",
      "_________________________________________________________________\n",
      "dense_1 (Dense)              (None, 600)               1440600   \n",
      "_________________________________________________________________\n",
      "dropout_2 (Dropout)          (None, 600)               0         \n",
      "_________________________________________________________________\n",
      "activation_1 (Activation)    (None, 600)               0         \n",
      "_________________________________________________________________\n",
      "dense_2 (Dense)              (None, 1)                 601       \n",
      "_________________________________________________________________\n",
      "activation_2 (Activation)    (None, 1)                 0         \n",
      "=================================================================\n",
      "Total params: 20,511,276\n",
      "Trainable params: 20,511,276\n",
      "Non-trainable params: 0\n",
      "_________________________________________________________________\n",
      "None\n",
      "Generating feature vectors\n",
      "300001/300001 [==============================] - 1443s 5ms/step\n"
     ]
    }
   ],
   "source": [
    "if __name__ == '__main__':\n",
    "    #train = len(sys.argv) == 1\n",
    "    train = 0\n",
    "    np.random.seed(1337)\n",
    "    vocab_size = 90000\n",
    "    batch_size = 500\n",
    "    max_length = 40\n",
    "    filters = 600\n",
    "    kernel_size = 3\n",
    "    vocab = utils.top_n_words(FREQ_DIST_FILE, vocab_size, shift=1)\n",
    "    glove_vectors = get_glove_vectors(vocab)\n",
    "    tweets, labels = process_tweets(TRAIN_PROCESSED_FILE, test_file=False)\n",
    "    # Create and embedding matrix\n",
    "    embedding_matrix = np.random.randn(vocab_size + 1, dim) * 0.01\n",
    "    # Seed it with GloVe vectors\n",
    "    for word, i in vocab.items():\n",
    "        glove_vector = glove_vectors.get(word)\n",
    "        if glove_vector is not None:\n",
    "            embedding_matrix[i] = glove_vector\n",
    "    tweets = pad_sequences(tweets, maxlen=max_length, padding='post')\n",
    "    shuffled_indices = np.random.permutation(tweets.shape[0])\n",
    "    tweets = tweets[shuffled_indices]\n",
    "    labels = labels[shuffled_indices]\n",
    "    if train:\n",
    "        print('hii')\n",
    "        model = Sequential()\n",
    "        model.add(Embedding(vocab_size + 1, dim, weights=[embedding_matrix], input_length=max_length))\n",
    "        model.add(Dropout(0.4))\n",
    "        model.add(Conv1D(filters, kernel_size, padding='valid', activation='relu', strides=1))\n",
    "        model.add(Conv1D(300, kernel_size, padding='valid', activation='relu', strides=1))\n",
    "        model.add(Conv1D(150, kernel_size, padding='valid', activation='relu', strides=1))\n",
    "        model.add(Conv1D(75, kernel_size, padding='valid', activation='relu', strides=1))\n",
    "        model.add(Flatten())\n",
    "        model.add(Dense(600))\n",
    "        model.add(Dropout(0.5))\n",
    "        model.add(Activation('relu'))\n",
    "        model.add(Dense(1))\n",
    "        model.add(Activation('sigmoid'))\n",
    "        model.compile(loss='binary_crossentropy', optimizer='adam', metrics=['acc'])\n",
    "        filepath = \"./models/4cnn-{epoch:02d}-{loss:0.3f}-{acc:0.3f}-{val_loss:0.3f}-{val_acc:0.3f}.hdf5\"\n",
    "        checkpoint = ModelCheckpoint(filepath, monitor=\"loss\", verbose=1, save_best_only=True, mode='min')\n",
    "        reduce_lr = ReduceLROnPlateau(monitor='val_loss', factor=0.5, patience=2, min_lr=0.000001)\n",
    "        model.fit(tweets, labels, batch_size=256, epochs=3, validation_split=0.1, shuffle=True, callbacks=[checkpoint, reduce_lr])\n",
    "    else:\n",
    "        model = load_model(\"./models/4cnn-03-0.416-0.809-0.447-0.789.hdf5\")\n",
    "        print( model.summary())\n",
    "        test_tweets, _ = process_tweets(TEST_PROCESSED_FILE, test_file=True)\n",
    "        test_tweets = pad_sequences(test_tweets, maxlen=max_length, padding='post')\n",
    "        predictions = model.predict(test_tweets, batch_size=256, verbose=1)\n",
    "        results = zip(map(str, range(len(test_tweets))), np.round(predictions[:, 0]).astype(int))\n",
    "        utils.save_results_to_csv(results, 'cnn.csv')"
   ]
  },
  {
   "cell_type": "code",
   "execution_count": null,
   "metadata": {},
   "outputs": [],
   "source": []
  },
  {
   "cell_type": "code",
   "execution_count": null,
   "metadata": {},
   "outputs": [],
   "source": []
  }
 ],
 "metadata": {
  "kernelspec": {
   "display_name": "Python 3",
   "language": "python",
   "name": "python3"
  },
  "language_info": {
   "codemirror_mode": {
    "name": "ipython",
    "version": 3
   },
   "file_extension": ".py",
   "mimetype": "text/x-python",
   "name": "python",
   "nbconvert_exporter": "python",
   "pygments_lexer": "ipython3",
   "version": "3.7.4"
  }
 },
 "nbformat": 4,
 "nbformat_minor": 2
}
