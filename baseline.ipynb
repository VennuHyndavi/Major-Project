{
 "cells": [
  {
   "cell_type": "code",
   "execution_count": 3,
   "metadata": {},
   "outputs": [
    {
     "name": "stdout",
     "output_type": "stream",
     "text": [
      "Correct = 65.35%\n"
     ]
    }
   ],
   "source": [
    "import import_ipynb\n",
    "import utils\n",
    "\n",
    "# Classifies a tweet based on the number of positive and negative words in it\n",
    "\n",
    "TRAIN_PROCESSED_FILE = r'C:\\Users\\Vyshnavi\\Desktop\\main\\dataset\\train-processed.csv'\n",
    "TEST_PROCESSED_FILE = r'C:\\Users\\Vyshnavi\\Desktop\\main\\dataset\\test-processed.csv'\n",
    "POSITIVE_WORDS_FILE = r'C:\\Users\\Vyshnavi\\Desktop\\main\\dataset\\positive-words.txt'\n",
    "NEGATIVE_WORDS_FILE = r'C:\\Users\\Vyshnavi\\Desktop\\main\\dataset\\negative-words.txt'\n",
    "TRAIN = True\n",
    "\n",
    "\n",
    "def classify(processed_csv, test_file=True, **params):\n",
    "    positive_words = utils.file_to_wordset(params.pop('positive_words'))\n",
    "    negative_words = utils.file_to_wordset(params.pop('negative_words'))\n",
    "    predictions = []\n",
    "    with open(processed_csv, 'r') as csv:\n",
    "        for line in csv:\n",
    "            if test_file:\n",
    "                tweet_id, tweet = line.strip().split(',')\n",
    "            else:\n",
    "                tweet_id, label, tweet = line.strip().split(',')\n",
    "            pos_count, neg_count = 0, 0\n",
    "            for word in tweet.split():\n",
    "                if word in positive_words:\n",
    "                    pos_count += 1\n",
    "                elif word in negative_words:\n",
    "                    neg_count += 1\n",
    "            # print pos_count, neg_count\n",
    "            prediction = 1 if pos_count >= neg_count else 0\n",
    "            if test_file:\n",
    "                predictions.append((tweet_id, prediction))\n",
    "            else:\n",
    "                predictions.append((tweet_id, int(label), prediction))\n",
    "    return predictions\n",
    "\n",
    "\n",
    "if __name__ == '__main__':\n",
    "    if TRAIN:\n",
    "        predictions = classify(TRAIN_PROCESSED_FILE, test_file=(not TRAIN), positive_words=POSITIVE_WORDS_FILE, negative_words=NEGATIVE_WORDS_FILE)\n",
    "        correct = sum([1 for p in predictions if p[1] == p[2]]) * 100.0 / len(predictions)\n",
    "        print ('Correct = %.2f%%' % correct)\n",
    "    else:\n",
    "        predictions = classify(TEST_PROCESSED_FILE, test_file=(not TRAIN), positive_words=POSITIVE_WORDS_FILE, negative_words=NEGATIVE_WORDS_FILE)\n",
    "        utils.save_results_to_csv(predictions, 'baseline.csv')"
   ]
  },
  {
   "cell_type": "code",
   "execution_count": null,
   "metadata": {},
   "outputs": [],
   "source": []
  }
 ],
 "metadata": {
  "kernelspec": {
   "display_name": "Python 3",
   "language": "python",
   "name": "python3"
  },
  "language_info": {
   "codemirror_mode": {
    "name": "ipython",
    "version": 3
   },
   "file_extension": ".py",
   "mimetype": "text/x-python",
   "name": "python",
   "nbconvert_exporter": "python",
   "pygments_lexer": "ipython3",
   "version": "3.7.4"
  }
 },
 "nbformat": 4,
 "nbformat_minor": 2
}
